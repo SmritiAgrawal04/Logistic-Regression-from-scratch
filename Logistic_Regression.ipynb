{
 "cells": [
  {
   "cell_type": "code",
   "execution_count": 98,
   "metadata": {},
   "outputs": [],
   "source": [
    "import numpy as np\n",
    "import matplotlib.pyplot as plt\n",
    "from sklearn.datasets import make_classification\n",
    "import seaborn as sns\n",
    "import cv2\n",
    "import pandas as pd\n",
    "from glob import iglob\n",
    "import warnings\n",
    "warnings.filterwarnings('ignore')"
   ]
  },
  {
   "cell_type": "code",
   "execution_count": 99,
   "metadata": {},
   "outputs": [],
   "source": [
    "def sigmoid(z):\n",
    "    return 1 / (1 + np.exp(-z))"
   ]
  },
  {
   "cell_type": "code",
   "execution_count": 100,
   "metadata": {},
   "outputs": [],
   "source": [
    "def cost(theta, x, y):\n",
    "    h = sigmoid(x @ theta)\n",
    "    m = len(y)\n",
    "    cost = 1 / m * np.sum(\n",
    "        -y * np.log(h) - (1 - y) * np.log(1 - h)\n",
    "    )\n",
    "    grad = 1 / m * ((y - h) @ x)\n",
    "    return cost, grad"
   ]
  },
  {
   "cell_type": "code",
   "execution_count": 110,
   "metadata": {},
   "outputs": [],
   "source": [
    "def fit(x, y, max_iter=1000, alpha=0.1):\n",
    "    x = np.hstack((np.ones((len(y),1)),x))\n",
    "    thetas = []\n",
    "    classes = np.unique(y)\n",
    "    costs = np.zeros(max_iter)\n",
    "\n",
    "    for c in classes:\n",
    "        # one vs. rest binary classification\n",
    "        binary_y = np.where(y == c, 1, 0)\n",
    "        \n",
    "        theta = np.zeros(x.shape[1])\n",
    "        for epoch in range(max_iter):\n",
    "            costs[epoch], grad = cost(theta, x, binary_y)\n",
    "            theta += alpha * grad\n",
    "            \n",
    "        thetas.append(theta)\n",
    "    return thetas, classes, costs"
   ]
  },
  {
   "cell_type": "code",
   "execution_count": 111,
   "metadata": {},
   "outputs": [],
   "source": [
    "def predict(classes, thetas, x, length):\n",
    "    x = np.hstack((np.ones((length,1)),x))\n",
    "    preds = [np.argmax([sigmoid(xi @ theta) for theta in thetas]) for xi in x]\n",
    "    return [classes[p] for p in preds]"
   ]
  },
  {
   "cell_type": "code",
   "execution_count": 137,
   "metadata": {},
   "outputs": [],
   "source": [
    "images_classes= []\n",
    "faces = pd.DataFrame([])\n",
    "for path in iglob('./dataset/*.jpg'):\n",
    "    clas= ((path.split('/')[-1]).split('.')[0]).split('_')[0]\n",
    "    images_classes.append(clas)\n",
    "    image = cv2.imread(path)\n",
    "    gray = cv2.cvtColor(image, cv2.COLOR_BGR2GRAY)\n",
    "    scale_percent = 60 # percent of original size\n",
    "    width = int(image.shape[1] * scale_percent / 100)\n",
    "    height = int(image.shape[0] * scale_percent / 100)\n",
    "    dim = (width, height)\n",
    "    gray = cv2.resize(gray, dim,interpolation = cv2.INTER_NEAREST)\n",
    "    face = pd.Series(gray.flatten(),name=path)\n",
    "    faces = faces.append(face)\n",
    "\n",
    "dim= gray.shape"
   ]
  },
  {
   "cell_type": "code",
   "execution_count": 138,
   "metadata": {},
   "outputs": [
    {
     "name": "stdout",
     "output_type": "stream",
     "text": [
      "(520, 23409)\n"
     ]
    }
   ],
   "source": [
    "r= 100\n",
    "PCA_faces = pd.DataFrame([])\n",
    "for i in range (len(faces)):\n",
    "    gray= faces.iloc[i].values.reshape(dim).astype('uint8')\n",
    "    U, S, VT= np.linalg.svd(gray, full_matrices= False)\n",
    "    S= np.diag(S)\n",
    "    face = pd.Series(gray.flatten(),name=path)\n",
    "\n",
    "    approx= U[:,:r]@ S[0:r,:r]@ VT[:r,:]\n",
    "    face= pd.Series(approx.flatten(),name=path)\n",
    "    PCA_faces= PCA_faces.append(face)\n",
    "    \n",
    "print (PCA_faces.shape)"
   ]
  },
  {
   "cell_type": "code",
   "execution_count": 139,
   "metadata": {},
   "outputs": [],
   "source": [
    "def split_data(dataset):\n",
    "    length= int(0.2*len(dataset))\n",
    "    train_data = dataset[length:]\n",
    "    valid_data = dataset[:length]\n",
    "\n",
    "    return train_data.to_numpy(), valid_data.to_numpy()"
   ]
  },
  {
   "cell_type": "code",
   "execution_count": 140,
   "metadata": {},
   "outputs": [],
   "source": [
    "train_data, valid_data= split_data(PCA_faces)\n",
    "\n",
    "length= int(0.2*len(PCA_faces))\n",
    "train_labels= np.asarray(images_classes[length:])\n",
    "\n",
    "valid_labels= np.asarray(images_classes[:length])"
   ]
  },
  {
   "cell_type": "code",
   "execution_count": 141,
   "metadata": {},
   "outputs": [],
   "source": [
    "thetas, classes, costs = fit(train_data, train_labels)"
   ]
  },
  {
   "cell_type": "code",
   "execution_count": 142,
   "metadata": {},
   "outputs": [],
   "source": [
    "def score(classes, theta, x, y):\n",
    "    return (predict(classes, theta, x, len(y)) == y).mean()"
   ]
  },
  {
   "cell_type": "code",
   "execution_count": 143,
   "metadata": {},
   "outputs": [
    {
     "name": "stdout",
     "output_type": "stream",
     "text": [
      "Train Accuracy: 0.870\n",
      "Test Accuracy: 0.529\n"
     ]
    }
   ],
   "source": [
    "print(f\"Train Accuracy: {score(classes, thetas, train_data, train_labels):.3f}\")\n",
    "print(f\"Test Accuracy: {score(classes, thetas, valid_data, valid_labels):.3f}\")"
   ]
  },
  {
   "cell_type": "code",
   "execution_count": null,
   "metadata": {},
   "outputs": [],
   "source": []
  },
  {
   "cell_type": "code",
   "execution_count": null,
   "metadata": {},
   "outputs": [],
   "source": []
  }
 ],
 "metadata": {
  "kernelspec": {
   "display_name": "Python 3",
   "language": "python",
   "name": "python3"
  },
  "language_info": {
   "codemirror_mode": {
    "name": "ipython",
    "version": 3
   },
   "file_extension": ".py",
   "mimetype": "text/x-python",
   "name": "python",
   "nbconvert_exporter": "python",
   "pygments_lexer": "ipython3",
   "version": "3.6.9"
  }
 },
 "nbformat": 4,
 "nbformat_minor": 2
}
